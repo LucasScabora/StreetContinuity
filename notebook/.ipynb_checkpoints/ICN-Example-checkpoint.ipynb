{
 "cells": [
  {
   "cell_type": "markdown",
   "metadata": {},
   "source": [
    "These are dependencies for Python 3.6 should be similar to Python 2.7."
   ]
  },
  {
   "cell_type": "code",
   "execution_count": 1,
   "metadata": {
    "ExecuteTime": {
     "end_time": "2019-01-25T17:44:36.713216Z",
     "start_time": "2019-01-25T17:44:35.038626Z"
    }
   },
   "outputs": [],
   "source": [
    "import math\n",
    "import random\n",
    "import warnings\n",
    "import itertools\n",
    "import osmnx as ox\n",
    "import networkx as nx"
   ]
  },
  {
   "cell_type": "code",
   "execution_count": 2,
   "metadata": {
    "ExecuteTime": {
     "end_time": "2019-01-25T17:44:36.717595Z",
     "start_time": "2019-01-25T17:44:36.715401Z"
    }
   },
   "outputs": [],
   "source": [
    "from random import shuffle"
   ]
  },
  {
   "cell_type": "markdown",
   "metadata": {},
   "source": [
    "Ignoring unwanted warnings."
   ]
  },
  {
   "cell_type": "code",
   "execution_count": 3,
   "metadata": {
    "ExecuteTime": {
     "end_time": "2019-01-25T17:44:36.725162Z",
     "start_time": "2019-01-25T17:44:36.720052Z"
    },
    "deletable": false,
    "editable": false
   },
   "outputs": [],
   "source": [
    "warnings.filterwarnings('ignore')"
   ]
  },
  {
   "cell_type": "markdown",
   "metadata": {},
   "source": [
    "I am using the city of Sao Carlos as an example, change as you please."
   ]
  },
  {
   "cell_type": "code",
   "execution_count": 4,
   "metadata": {
    "ExecuteTime": {
     "end_time": "2019-01-25T17:44:39.045330Z",
     "start_time": "2019-01-25T17:44:36.727964Z"
    }
   },
   "outputs": [
    {
     "data": {
      "image/png": "[encoded data removed]",
      "text/plain": [
       "<Figure size 405.89x432 with 1 Axes>"
      ]
     },
     "metadata": {},
     "output_type": "display_data"
    }
   ],
   "source": [
    "oxg = ox.graph_from_point((-22.012282, -47.890821), distance=400)\n",
    "fig = ox.plot_graph(oxg) # visualizing results"
   ]
  },
  {
   "cell_type": "markdown",
   "metadata": {},
   "source": [
    "Number of Vertices and Edges in the MultiDiGraph."
   ]
  },
  {
   "cell_type": "code",
   "execution_count": 5,
   "metadata": {
    "ExecuteTime": {
     "end_time": "2019-01-25T17:44:39.052483Z",
     "start_time": "2019-01-25T17:44:39.047515Z"
    }
   },
   "outputs": [
    {
     "data": {
      "text/plain": [
       "(57, 98)"
      ]
     },
     "execution_count": 5,
     "metadata": {},
     "output_type": "execute_result"
    }
   ],
   "source": [
    "nx.number_of_nodes(oxg), nx.number_of_edges(oxg)"
   ]
  },
  {
   "cell_type": "markdown",
   "metadata": {},
   "source": [
    "Direction is not important in this case, so let's use a simple Graph."
   ]
  },
  {
   "cell_type": "code",
   "execution_count": 6,
   "metadata": {
    "ExecuteTime": {
     "end_time": "2019-01-25T17:44:39.060117Z",
     "start_time": "2019-01-25T17:44:39.054769Z"
    }
   },
   "outputs": [],
   "source": [
    "oxg = nx.Graph(oxg) # MultiDiGraph (input) ~> Graph (output)"
   ]
  },
  {
   "cell_type": "markdown",
   "metadata": {},
   "source": [
    "Removing self loops from the graph."
   ]
  },
  {
   "cell_type": "code",
   "execution_count": 7,
   "metadata": {
    "ExecuteTime": {
     "end_time": "2019-01-25T17:44:39.068446Z",
     "start_time": "2019-01-25T17:44:39.062921Z"
    }
   },
   "outputs": [],
   "source": [
    "oxg.remove_edges_from(oxg.selfloop_edges())"
   ]
  },
  {
   "cell_type": "markdown",
   "metadata": {},
   "source": [
    "Number of Vertices and Edges after converting MultiDiGraph to Digraph."
   ]
  },
  {
   "cell_type": "code",
   "execution_count": 8,
   "metadata": {
    "ExecuteTime": {
     "end_time": "2019-01-25T17:44:39.076781Z",
     "start_time": "2019-01-25T17:44:39.070165Z"
    }
   },
   "outputs": [
    {
     "data": {
      "text/plain": [
       "(57, 94)"
      ]
     },
     "execution_count": 8,
     "metadata": {},
     "output_type": "execute_result"
    }
   ],
   "source": [
    "nx.number_of_nodes(oxg), nx.number_of_edges(oxg)"
   ]
  },
  {
   "cell_type": "code",
   "execution_count": 9,
   "metadata": {
    "ExecuteTime": {
     "end_time": "2019-01-25T17:44:39.084329Z",
     "start_time": "2019-01-25T17:44:39.078413Z"
    },
    "scrolled": false
   },
   "outputs": [],
   "source": [
    "adjacency_list = nx.to_dict_of_lists(oxg)"
   ]
  },
  {
   "cell_type": "markdown",
   "metadata": {},
   "source": []
  },
  {
   "cell_type": "code",
   "execution_count": 10,
   "metadata": {
    "ExecuteTime": {
     "end_time": "2019-01-25T17:44:39.094946Z",
     "start_time": "2019-01-25T17:44:39.086134Z"
    }
   },
   "outputs": [],
   "source": [
    "def compute_angle(source, negotiator, target):\n",
    "    # extracting nodes coordinates\n",
    "    src_lat, src_lon = list(oxg.node[source].values())[0:2]\n",
    "    tgt_lat, tgt_lon = list(oxg.node[target].values())[0:2]\n",
    "    neg_lat, neg_lon = list(oxg.node[negotiator].values())[0:2]\n",
    "\n",
    "    # estimating the triangle's sides length\n",
    "    d_sn = ox.utils.great_circle_vec(src_lat, src_lon, neg_lat, neg_lon) # a: from source to negotiator\n",
    "    d_nt = ox.utils.great_circle_vec(neg_lat, neg_lon, tgt_lat, tgt_lon) # b: from negotiator to target\n",
    "    d_st = ox.utils.great_circle_vec(src_lat, src_lon, tgt_lat, tgt_lon) # c: from source to target\n",
    "\n",
    "    # calculating the law of cosines: cos(angle) = (a² + b² - c²) / (2ab)\n",
    "    return round(math.acos(((d_sn ** 2) + (d_nt ** 2) - (d_st ** 2)) / (2 * d_sn * d_nt)) * (180/math.pi))"
   ]
  },
  {
   "cell_type": "markdown",
   "metadata": {},
   "source": [
    "Calculating the triples of higher convex angle for each of the vertices."
   ]
  },
  {
   "cell_type": "code",
   "execution_count": 17,
   "metadata": {
    "ExecuteTime": {
     "end_time": "2019-01-25T17:45:14.075145Z",
     "start_time": "2019-01-25T17:45:14.072018Z"
    }
   },
   "outputs": [],
   "source": [
    "routes = []\n",
    "streets = []\n",
    "assignments = []"
   ]
  },
  {
   "cell_type": "code",
   "execution_count": 12,
   "metadata": {
    "ExecuteTime": {
     "end_time": "2019-01-25T17:44:39.156639Z",
     "start_time": "2019-01-25T17:44:39.108615Z"
    },
    "scrolled": true
   },
   "outputs": [],
   "source": [
    "max_angle = 0\n",
    "angles = dict()\n",
    "triplets = list()\n",
    "\n",
    "for negotiator in adjacency_list.keys():\n",
    "    \n",
    "    if len(adjacency_list[negotiator]) > 1:\n",
    "        incident = adjacency_list[negotiator]\n",
    "        \n",
    "        for source, target in itertools.permutations(incident, 2):\n",
    "            source, target = sorted([source, target], reverse=True) # lowest to highest id\n",
    "            \n",
    "            angle = compute_angle(source, negotiator, target)\n",
    "\n",
    "            if angle > 120:\n",
    "                \n",
    "                max_angle = max(max_angle, angle)\n",
    "                \n",
    "                triplets.append(((source, negotiator, target), angle))\n",
    "                \n",
    "                if angle not in angles.keys():\n",
    "                    angles[angle] = []\n",
    "                \n",
    "                angles[angle].append((source, negotiator, target))\n",
    "            \n",
    "triplets = sorted(triplets, key=lambda x: x[1], reverse=True)"
   ]
  },
  {
   "cell_type": "code",
   "execution_count": 56,
   "metadata": {
    "ExecuteTime": {
     "end_time": "2019-01-25T17:40:16.408783Z",
     "start_time": "2019-01-25T17:40:16.405397Z"
    },
    "deletable": false,
    "editable": false,
    "run_control": {
     "frozen": true
    }
   },
   "outputs": [],
   "source": [
    "source, negotiator, target = random.choice(angles[max_angle])\n",
    "street = [source, negotiator, target]\n",
    "pool = [(source, negotiator), (target, negotiator)]"
   ]
  },
  {
   "cell_type": "code",
   "execution_count": 13,
   "metadata": {
    "ExecuteTime": {
     "end_time": "2019-01-25T17:44:39.181544Z",
     "start_time": "2019-01-25T17:44:39.158768Z"
    }
   },
   "outputs": [],
   "source": [
    "for source, negotiator, target in dict(triplets).keys():\n",
    "    \n",
    "    if (source, negotiator) not in assignments and (negotiator, target) not in assignments:\n",
    "    \n",
    "        street = [source, negotiator, target]\n",
    "        pool = [(source, negotiator), (target, negotiator)]\n",
    "\n",
    "        while len(pool) > 0:\n",
    "            negotiator, old_negotiator = pool.pop()\n",
    "            incidents = list(set(adjacency_list[negotiator]) - set([old_negotiator]))\n",
    "\n",
    "            max_angle = 0\n",
    "            street_angles = dict()\n",
    "            for incident in incidents:\n",
    "\n",
    "                if (negotiator, incident) not in assignments:\n",
    "                    source, target = sorted([old_negotiator, incident], reverse=True) # lowest to highest id\n",
    "\n",
    "                    # calculating the law of cosines\n",
    "                    angle = compute_angle(source, negotiator, target)\n",
    "\n",
    "                    max_angle = max(max_angle, angle)\n",
    "\n",
    "                    if angle not in street_angles.keys():\n",
    "                        street_angles[angle] = []\n",
    "\n",
    "                    street_angles[angle].append((source, negotiator, target))\n",
    "\n",
    "            if max_angle > 120:\n",
    "                chosen = -1\n",
    "                for triplet in street_angles[max_angle]:\n",
    "                    if negotiator in triplet and old_negotiator in triplet:\n",
    "                        if chosen == -1:\n",
    "                            chosen = list(set(triplet) - set([old_negotiator, negotiator]))[0]\n",
    "                            pool.append([chosen, negotiator])\n",
    "                            if negotiator == street[0]:\n",
    "                                street.insert(0, chosen)\n",
    "                            else:\n",
    "                                street.append(chosen)\n",
    "        s = []\n",
    "        for i in range(0, len(street) - 1):\n",
    "            s.append((street[i], street[i+1]))\n",
    "            s.append((street[i+1], street[i]))\n",
    "        routes.append(street)\n",
    "        streets.append(s)\n",
    "        assignments.extend(s)"
   ]
  },
  {
   "cell_type": "code",
   "execution_count": 14,
   "metadata": {
    "ExecuteTime": {
     "end_time": "2019-01-25T17:44:39.192181Z",
     "start_time": "2019-01-25T17:44:39.183035Z"
    }
   },
   "outputs": [
    {
     "data": {
      "text/plain": [
       "14"
      ]
     },
     "execution_count": 14,
     "metadata": {},
     "output_type": "execute_result"
    }
   ],
   "source": [
    "len(streets)"
   ]
  },
  {
   "cell_type": "code",
   "execution_count": 16,
   "metadata": {
    "ExecuteTime": {
     "end_time": "2019-01-25T17:44:49.100967Z",
     "start_time": "2019-01-25T17:44:49.095691Z"
    }
   },
   "outputs": [
    {
     "data": {
      "text/plain": [
       "[(577204291, 577204290),\n",
       " (577204290, 577204291),\n",
       " (577204290, 577204289),\n",
       " (577204289, 577204290),\n",
       " (577204289, 577204288),\n",
       " (577204288, 577204289),\n",
       " (577204288, 577204287),\n",
       " (577204287, 577204288),\n",
       " (577204287, 577204286),\n",
       " (577204286, 577204287),\n",
       " (577204286, 577204285),\n",
       " (577204285, 577204286)]"
      ]
     },
     "execution_count": 16,
     "metadata": {},
     "output_type": "execute_result"
    }
   ],
   "source": [
    "street"
   ]
  },
  {
   "cell_type": "code",
   "execution_count": 15,
   "metadata": {
    "ExecuteTime": {
     "end_time": "2019-01-25T17:44:39.426105Z",
     "start_time": "2019-01-25T17:44:39.194344Z"
    }
   },
   "outputs": [
    {
     "ename": "KeyError",
     "evalue": "(577204291, 577204290)",
     "output_type": "error",
     "traceback": [
      "\u001b[0;31m---------------------------------------------------------------------------\u001b[0m",
      "\u001b[0;31mKeyError\u001b[0m                                  Traceback (most recent call last)",
      "\u001b[0;32m<ipython-input-15-9fe3788d5cbc>\u001b[0m in \u001b[0;36m<module>\u001b[0;34m\u001b[0m\n\u001b[1;32m      1\u001b[0m \u001b[0;32mfor\u001b[0m \u001b[0mstreet\u001b[0m \u001b[0;32min\u001b[0m \u001b[0mstreets\u001b[0m\u001b[0;34m:\u001b[0m\u001b[0;34m\u001b[0m\u001b[0m\n\u001b[0;32m----> 2\u001b[0;31m     \u001b[0mfig\u001b[0m\u001b[0;34m,\u001b[0m \u001b[0max\u001b[0m \u001b[0;34m=\u001b[0m \u001b[0mox\u001b[0m\u001b[0;34m.\u001b[0m\u001b[0mplot_graph_route\u001b[0m\u001b[0;34m(\u001b[0m\u001b[0mnx\u001b[0m\u001b[0;34m.\u001b[0m\u001b[0mMultiGraph\u001b[0m\u001b[0;34m(\u001b[0m\u001b[0moxg\u001b[0m\u001b[0;34m)\u001b[0m\u001b[0;34m,\u001b[0m \u001b[0mstreet\u001b[0m\u001b[0;34m,\u001b[0m \u001b[0mnode_size\u001b[0m\u001b[0;34m=\u001b[0m\u001b[0;36m0\u001b[0m\u001b[0;34m)\u001b[0m\u001b[0;34m\u001b[0m\u001b[0m\n\u001b[0m",
      "\u001b[0;32m~/.local/lib/python3.6/site-packages/osmnx/plot.py\u001b[0m in \u001b[0;36mplot_graph_route\u001b[0;34m(G, route, bbox, fig_height, fig_width, margin, bgcolor, axis_off, show, save, close, file_format, filename, dpi, annotate, node_color, node_size, node_alpha, node_edgecolor, node_zorder, edge_color, edge_linewidth, edge_alpha, use_geom, origin_point, destination_point, route_color, route_linewidth, route_alpha, orig_dest_node_alpha, orig_dest_node_size, orig_dest_node_color, orig_dest_point_color)\u001b[0m\n\u001b[1;32m    552\u001b[0m         \u001b[0;31m# if caller didn't pass points, use the first and last node in route as\u001b[0m\u001b[0;34m\u001b[0m\u001b[0;34m\u001b[0m\u001b[0m\n\u001b[1;32m    553\u001b[0m         \u001b[0;31m# origin/destination\u001b[0m\u001b[0;34m\u001b[0m\u001b[0;34m\u001b[0m\u001b[0m\n\u001b[0;32m--> 554\u001b[0;31m         \u001b[0morigin_destination_lats\u001b[0m \u001b[0;34m=\u001b[0m \u001b[0;34m(\u001b[0m\u001b[0mG\u001b[0m\u001b[0;34m.\u001b[0m\u001b[0mnodes\u001b[0m\u001b[0;34m[\u001b[0m\u001b[0morigin_node\u001b[0m\u001b[0;34m]\u001b[0m\u001b[0;34m[\u001b[0m\u001b[0;34m'y'\u001b[0m\u001b[0;34m]\u001b[0m\u001b[0;34m,\u001b[0m \u001b[0mG\u001b[0m\u001b[0;34m.\u001b[0m\u001b[0mnodes\u001b[0m\u001b[0;34m[\u001b[0m\u001b[0mdestination_node\u001b[0m\u001b[0;34m]\u001b[0m\u001b[0;34m[\u001b[0m\u001b[0;34m'y'\u001b[0m\u001b[0;34m]\u001b[0m\u001b[0;34m)\u001b[0m\u001b[0;34m\u001b[0m\u001b[0m\n\u001b[0m\u001b[1;32m    555\u001b[0m         \u001b[0morigin_destination_lons\u001b[0m \u001b[0;34m=\u001b[0m \u001b[0;34m(\u001b[0m\u001b[0mG\u001b[0m\u001b[0;34m.\u001b[0m\u001b[0mnodes\u001b[0m\u001b[0;34m[\u001b[0m\u001b[0morigin_node\u001b[0m\u001b[0;34m]\u001b[0m\u001b[0;34m[\u001b[0m\u001b[0;34m'x'\u001b[0m\u001b[0;34m]\u001b[0m\u001b[0;34m,\u001b[0m \u001b[0mG\u001b[0m\u001b[0;34m.\u001b[0m\u001b[0mnodes\u001b[0m\u001b[0;34m[\u001b[0m\u001b[0mdestination_node\u001b[0m\u001b[0;34m]\u001b[0m\u001b[0;34m[\u001b[0m\u001b[0;34m'x'\u001b[0m\u001b[0;34m]\u001b[0m\u001b[0;34m)\u001b[0m\u001b[0;34m\u001b[0m\u001b[0m\n\u001b[1;32m    556\u001b[0m     \u001b[0;32melse\u001b[0m\u001b[0;34m:\u001b[0m\u001b[0;34m\u001b[0m\u001b[0m\n",
      "\u001b[0;32m~/.local/lib/python3.6/site-packages/networkx/classes/reportviews.py\u001b[0m in \u001b[0;36m__getitem__\u001b[0;34m(self, n)\u001b[0m\n\u001b[1;32m    176\u001b[0m \u001b[0;34m\u001b[0m\u001b[0m\n\u001b[1;32m    177\u001b[0m     \u001b[0;32mdef\u001b[0m \u001b[0m__getitem__\u001b[0m\u001b[0;34m(\u001b[0m\u001b[0mself\u001b[0m\u001b[0;34m,\u001b[0m \u001b[0mn\u001b[0m\u001b[0;34m)\u001b[0m\u001b[0;34m:\u001b[0m\u001b[0;34m\u001b[0m\u001b[0m\n\u001b[0;32m--> 178\u001b[0;31m         \u001b[0;32mreturn\u001b[0m \u001b[0mself\u001b[0m\u001b[0;34m.\u001b[0m\u001b[0m_nodes\u001b[0m\u001b[0;34m[\u001b[0m\u001b[0mn\u001b[0m\u001b[0;34m]\u001b[0m\u001b[0;34m\u001b[0m\u001b[0m\n\u001b[0m\u001b[1;32m    179\u001b[0m \u001b[0;34m\u001b[0m\u001b[0m\n\u001b[1;32m    180\u001b[0m     \u001b[0;31m# Set methods\u001b[0m\u001b[0;34m\u001b[0m\u001b[0;34m\u001b[0m\u001b[0m\n",
      "\u001b[0;31mKeyError\u001b[0m: (577204291, 577204290)"
     ]
    },
    {
     "data": {
      "image/png": "[encoded data removed]",
      "text/plain": [
       "<Figure size 405.89x432 with 1 Axes>"
      ]
     },
     "metadata": {},
     "output_type": "display_data"
    }
   ],
   "source": [
    "for street in streets:\n",
    "    fig, ax = ox.plot_graph_route(nx.MultiGraph(oxg), street, node_size=0)"
   ]
  },
  {
   "cell_type": "code",
   "execution_count": null,
   "metadata": {
    "deletable": false,
    "editable": false,
    "run_control": {
     "frozen": true
    }
   },
   "outputs": [],
   "source": [
    "angles = dict()\n",
    "# assignments = dict() \n",
    "for negotiator in adjacency_list.keys():\n",
    "    \n",
    "    # a cul-de-sac will be automatically assigned to the continuity of the previous node\n",
    "    if len(adjacency_list[negotiator]) > 1:\n",
    "        incident = adjacency_list[negotiator]\n",
    "        triplets = []\n",
    "        \n",
    "        for source, target in itertools.combinations(incident, 2):\n",
    "            src_lat, src_lon = list(oxg.node[source].values())[0:2]\n",
    "            tgt_lat, tgt_lon = list(oxg.node[target].values())[0:2]\n",
    "            neg_lat, neg_lon = list(oxg.node[negotiator].values())[0:2]\n",
    "\n",
    "            # a: from source to negotiator\n",
    "            d_sn = ox.utils.great_circle_vec(src_lat, src_lon, neg_lat, neg_lon)\n",
    "            # b: from negotiator to target\n",
    "            d_nt = ox.utils.great_circle_vec(neg_lat, neg_lon, tgt_lat, tgt_lon)\n",
    "            # c: from source to target\n",
    "            d_st = ox.utils.great_circle_vec(src_lat, src_lon, tgt_lat, tgt_lon)\n",
    "\n",
    "            # cos(angle) = (a² + b² - c²) / (2ab)\n",
    "            angle = math.acos(((d_sn ** 2) + (d_nt ** 2) - (d_st ** 2)) / (2 * d_sn * d_nt)) * (180/math.pi)\n",
    "            \n",
    "            if source not in angles.keys():\n",
    "                angles[source] = list()\n",
    "                \n",
    "            # if source not in assignments.keys():\n",
    "            #     assignments[source] = list()\n",
    "\n",
    "            angles[source].append(((negotiator, target), angle))\n",
    "            triplets.append(((source, negotiator, target), angle))\n",
    "            # assignments[source].append(((negotiator, target), False))\n",
    "            \n",
    "            angles[source] = sorted(angles[source], key=lambda x: x[1], reverse=True)\n",
    "            \n",
    "        triplets = sorted(triplets, key=lambda x: x[1], reverse=True)\n",
    "        \n",
    "        for t in triplets:\n",
    "            "
   ]
  },
  {
   "cell_type": "code",
   "execution_count": null,
   "metadata": {
    "ExecuteTime": {
     "end_time": "2019-01-22T19:03:11.711476Z",
     "start_time": "2019-01-22T19:03:09.667711Z"
    },
    "deletable": false,
    "editable": false,
    "run_control": {
     "frozen": true
    },
    "scrolled": false
   },
   "outputs": [],
   "source": [
    "# angles = dict()\n",
    "# continuities = dict()\n",
    "\n",
    "for negotiator in adjacency_list.keys():\n",
    "    \n",
    "    # a cul-de-sac will be automatically assigned to the continuity of the previous node\n",
    "    if len(adjacency_list[negotiator]) > 1:\n",
    "        incidents = adjacency_list[negotiator]\n",
    "        # continuities[negotiator] = dict()\n",
    "        # angles[negotiator] = dict()\n",
    "        continuity = 0\n",
    "        \n",
    "        # in nodes with an odd number of edges, the remaining edge is given the lowest continuity value\n",
    "        while len(incidents) > 1:\n",
    "            current_src = -1\n",
    "            current_tgt = -1\n",
    "            current_ang = 0 # varies from 0 to 180 degrees\n",
    "            \n",
    "            for source, target in itertools.combinations(incidents, 2):\n",
    "                src_lat, src_lon = list(oxg.node[source].values())[0:2]\n",
    "                tgt_lat, tgt_lon = list(oxg.node[target].values())[0:2]\n",
    "                neg_lat, neg_lon = list(oxg.node[negotiator].values())[0:2]\n",
    "\n",
    "                # a: from source to negotiator\n",
    "                d_sn = ox.utils.great_circle_vec(src_lat, src_lon, neg_lat, neg_lon)\n",
    "                # b: from negotiator to target\n",
    "                d_nt = ox.utils.great_circle_vec(neg_lat, neg_lon, tgt_lat, tgt_lon)\n",
    "                # c: from source to target\n",
    "                d_st = ox.utils.great_circle_vec(src_lat, src_lon, tgt_lat, tgt_lon)\n",
    "\n",
    "                # cos(angle) = (a² + b² - c²) / (2ab)\n",
    "                angle = math.acos(((d_sn ** 2) + (d_nt ** 2) - (d_st ** 2)) / (2 * d_sn * d_nt)) * (180/math.pi)\n",
    "                \n",
    "                if angle > current_ang:\n",
    "                    current_src = source\n",
    "                    current_tgt = target    \n",
    "                    current_ang = angle       \n",
    "\n",
    "            # if current_src not in triplets.keys():\n",
    "            #     triplets[current_src] = dict()\n",
    "            \n",
    "            # if negotiator not in triplets[current_src].keys():\n",
    "            #     triplets[current_src][negotiator] = dict()\n",
    "            \n",
    "            # triplets[current_src][negotiator][current_tgt] = continuity\n",
    "            # triplets_list.append((current_src, negotiator, current_tgt))\n",
    "            if angle > 130:\n",
    "                if 'continuity' not in oxg.get_edge_data(current_src, negotiator).keys():\n",
    "                    oxg.get_edge_data(current_src, negotiator)['continuity'] = continuity\n",
    "                elif oxg.get_edge_data(current_src, negotiator)['continuity'] > continuity:\n",
    "                    oxg.get_edge_data(current_src, negotiator)['continuity'] = continuity\n",
    "\n",
    "                if 'continuity' not in oxg.get_edge_data(negotiator, current_tgt).keys():\n",
    "                    oxg.get_edge_data(negotiator, current_tgt)['continuity'] = continuity\n",
    "                elif oxg.get_edge_data(negotiator, current_tgt)['continuity'] > continuity:\n",
    "                    oxg.get_edge_data(negotiator, current_tgt)['continuity'] = continuity\n",
    "            \n",
    "            incidents = list(set(incidents) - set([current_src, current_tgt]))\n",
    "            \n",
    "            # the lower, the higher the continuity\n",
    "            continuity += 1\n",
    "        \n",
    "        if len(incidents) == 1:\n",
    "            if 'continuity' not in oxg.get_edge_data(negotiator, incidents[0]).keys():\n",
    "                oxg.get_edge_data(negotiator, incidents[0])['continuity'] = continuity\n",
    "            elif oxg.get_edge_data(negotiator, incidents[0])['continuity'] > continuity:\n",
    "                oxg.get_edge_data(negotiator, incidents[0])['continuity'] = continuity"
   ]
  },
  {
   "cell_type": "code",
   "execution_count": null,
   "metadata": {
    "ExecuteTime": {
     "end_time": "2019-01-22T19:03:13.336430Z",
     "start_time": "2019-01-22T19:03:13.314537Z"
    },
    "deletable": false,
    "editable": false,
    "run_control": {
     "frozen": true
    },
    "scrolled": false
   },
   "outputs": [],
   "source": [
    "ec = ['orange' if key == 0 else 'purple' for u, v, key in oxg.edges(data='continuity')]"
   ]
  },
  {
   "cell_type": "code",
   "execution_count": null,
   "metadata": {
    "ExecuteTime": {
     "end_time": "2019-01-22T18:39:44.465349Z",
     "start_time": "2019-01-22T18:39:19.941Z"
    },
    "deletable": false,
    "editable": false,
    "run_control": {
     "frozen": true
    }
   },
   "outputs": [],
   "source": [
    "oxg.get_edge_data(1015217808, 1015709695)"
   ]
  },
  {
   "cell_type": "markdown",
   "metadata": {
    "deletable": false,
    "editable": false,
    "run_control": {
     "frozen": true
    }
   },
   "source": [
    "Node of example: 997687296"
   ]
  },
  {
   "cell_type": "code",
   "execution_count": null,
   "metadata": {
    "ExecuteTime": {
     "end_time": "2019-01-22T18:39:44.467869Z",
     "start_time": "2019-01-22T18:39:19.944Z"
    },
    "deletable": false,
    "editable": false,
    "run_control": {
     "frozen": true
    }
   },
   "outputs": [],
   "source": [
    "def street_mapping(node=997687296, visited=[997687296]):\n",
    "    a, n, t = 0, 0, 0\n",
    "    \n",
    "    exit = False\n",
    "    while not exit:\n",
    "        exit = True\n",
    "        \n",
    "        for (negotiator, target), angle in angles[node]:\n",
    "            if (node not in visited) and (negotiator not in visited) and (target not in visited):\n",
    "                if angle > a:\n",
    "                    exit = False\n",
    "                    n = negotiator\n",
    "                    t = target\n",
    "                    a = angle\n",
    "                    \n",
    "        if not exit:\n",
    "            visited.append(node)\n",
    "            visited.append(n)\n",
    "            visited.append(t)\n",
    "            node = t\n",
    "            a = 0\n",
    "                \n",
    "    return visited"
   ]
  },
  {
   "cell_type": "code",
   "execution_count": null,
   "metadata": {
    "ExecuteTime": {
     "end_time": "2019-01-22T18:39:44.470171Z",
     "start_time": "2019-01-22T18:39:19.947Z"
    },
    "deletable": false,
    "editable": false,
    "run_control": {
     "frozen": true
    },
    "scrolled": true
   },
   "outputs": [],
   "source": [
    "visited = []\n",
    "for node in oxg.nodes():\n",
    "    if len(visited) == 0:\n",
    "        visited = [node]\n",
    "    visited = street_mapping(node, visited)"
   ]
  },
  {
   "cell_type": "code",
   "execution_count": null,
   "metadata": {
    "ExecuteTime": {
     "end_time": "2019-01-22T18:39:44.471971Z",
     "start_time": "2019-01-22T18:39:19.950Z"
    },
    "deletable": false,
    "editable": false,
    "run_control": {
     "frozen": true
    }
   },
   "outputs": [],
   "source": [
    "len(oxg.nodes())"
   ]
  },
  {
   "cell_type": "code",
   "execution_count": null,
   "metadata": {
    "ExecuteTime": {
     "end_time": "2019-01-22T18:39:44.473652Z",
     "start_time": "2019-01-22T18:39:19.953Z"
    },
    "deletable": false,
    "editable": false,
    "run_control": {
     "frozen": true
    }
   },
   "outputs": [],
   "source": [
    "len(visited)"
   ]
  },
  {
   "cell_type": "code",
   "execution_count": null,
   "metadata": {
    "ExecuteTime": {
     "end_time": "2019-01-22T18:39:44.474931Z",
     "start_time": "2019-01-22T18:39:19.957Z"
    },
    "deletable": false,
    "editable": false,
    "run_control": {
     "frozen": true
    }
   },
   "outputs": [],
   "source": [
    "angles[2679488821]"
   ]
  },
  {
   "cell_type": "code",
   "execution_count": null,
   "metadata": {
    "ExecuteTime": {
     "end_time": "2019-01-22T18:39:44.476433Z",
     "start_time": "2019-01-22T18:39:19.960Z"
    },
    "deletable": false,
    "editable": false,
    "run_control": {
     "frozen": true
    }
   },
   "outputs": [],
   "source": [
    "angles[496289460]"
   ]
  },
  {
   "cell_type": "code",
   "execution_count": null,
   "metadata": {
    "ExecuteTime": {
     "end_time": "2019-01-22T18:39:44.477885Z",
     "start_time": "2019-01-22T18:39:19.963Z"
    },
    "deletable": false,
    "editable": false,
    "run_control": {
     "frozen": true
    }
   },
   "outputs": [],
   "source": [
    "angles[496289519]"
   ]
  },
  {
   "cell_type": "code",
   "execution_count": null,
   "metadata": {
    "ExecuteTime": {
     "end_time": "2019-01-22T18:39:44.479124Z",
     "start_time": "2019-01-22T18:39:19.982Z"
    },
    "deletable": false,
    "editable": false,
    "run_control": {
     "frozen": true
    }
   },
   "outputs": [],
   "source": [
    "visited"
   ]
  },
  {
   "cell_type": "code",
   "execution_count": null,
   "metadata": {
    "ExecuteTime": {
     "end_time": "2019-01-22T18:39:44.480419Z",
     "start_time": "2019-01-22T18:39:19.990Z"
    },
    "deletable": false,
    "editable": false,
    "run_control": {
     "frozen": true
    }
   },
   "outputs": [],
   "source": [
    "for (n, t), d in angles[t]:\n",
    "    if n not in visited and t not in visited:\n",
    "        print(n, t, d)\n",
    "        pass"
   ]
  },
  {
   "cell_type": "markdown",
   "metadata": {
    "deletable": false,
    "editable": false,
    "run_control": {
     "frozen": true
    }
   },
   "source": [
    "The number of continuities is the maximum number of pairs of streets connected to a node."
   ]
  },
  {
   "cell_type": "code",
   "execution_count": null,
   "metadata": {
    "ExecuteTime": {
     "end_time": "2019-01-22T18:39:44.481627Z",
     "start_time": "2019-01-22T18:39:19.994Z"
    },
    "deletable": false,
    "editable": false,
    "run_control": {
     "frozen": true
    }
   },
   "outputs": [],
   "source": [
    "continuity = max([len(list(itertools.combinations(adjacency_list[n], 2))) for n in adjacency_list.keys()])"
   ]
  },
  {
   "cell_type": "markdown",
   "metadata": {
    "deletable": false,
    "editable": false,
    "run_control": {
     "frozen": true
    }
   },
   "source": [
    "Defining the interval of each continuity."
   ]
  },
  {
   "cell_type": "code",
   "execution_count": null,
   "metadata": {
    "ExecuteTime": {
     "end_time": "2019-01-22T18:39:44.482805Z",
     "start_time": "2019-01-22T18:39:19.996Z"
    },
    "deletable": false,
    "editable": false,
    "run_control": {
     "frozen": true
    }
   },
   "outputs": [],
   "source": [
    "increment = max(triplets.values())/continuity"
   ]
  },
  {
   "cell_type": "markdown",
   "metadata": {
    "deletable": false,
    "editable": false,
    "run_control": {
     "frozen": true
    }
   },
   "source": [
    "Assigning continuity labels to each triplet of nodes (pairs of streets)."
   ]
  },
  {
   "cell_type": "code",
   "execution_count": null,
   "metadata": {
    "ExecuteTime": {
     "end_time": "2019-01-22T18:39:44.483960Z",
     "start_time": "2019-01-22T18:39:19.999Z"
    },
    "deletable": false,
    "editable": false,
    "run_control": {
     "frozen": true
    }
   },
   "outputs": [],
   "source": [
    "for key in triplets.keys():\n",
    "    triplet_degree = triplets[key]\n",
    "    for i in range(1, continuity + 1):\n",
    "        if (triplet_degree >= math.ceil((i - 1) * increment)) and (triplet_degree < math.ceil(i * increment)):\n",
    "            triplets[key] = i"
   ]
  }
 ],
 "metadata": {
  "kernelspec": {
   "display_name": "Python 3",
   "language": "python",
   "name": "python3"
  },
  "language_info": {
   "codemirror_mode": {
    "name": "ipython",
    "version": 3
   },
   "file_extension": ".py",
   "mimetype": "text/x-python",
   "name": "python",
   "nbconvert_exporter": "python",
   "pygments_lexer": "ipython3",
   "version": "3.6.6"
  },
  "toc": {
   "base_numbering": 1,
   "nav_menu": {},
   "number_sections": true,
   "sideBar": true,
   "skip_h1_title": false,
   "title_cell": "Table of Contents",
   "title_sidebar": "Contents",
   "toc_cell": false,
   "toc_position": {},
   "toc_section_display": true,
   "toc_window_display": false
  },
  "varInspector": {
   "cols": {
    "lenName": 16,
    "lenType": 16,
    "lenVar": 40
   },
   "kernels_config": {
    "python": {
     "delete_cmd_postfix": "",
     "delete_cmd_prefix": "del ",
     "library": "var_list.py",
     "varRefreshCmd": "print(var_dic_list())"
    },
    "r": {
     "delete_cmd_postfix": ") ",
     "delete_cmd_prefix": "rm(",
     "library": "var_list.r",
     "varRefreshCmd": "cat(var_dic_list()) "
    }
   },
   "position": {
    "height": "805px",
    "left": "1965px",
    "right": "20px",
    "top": "93px",
    "width": "476px"
   },
   "types_to_exclude": [
    "module",
    "function",
    "builtin_function_or_method",
    "instance",
    "_Feature"
   ],
   "window_display": false
  }
 },
 "nbformat": 4,
 "nbformat_minor": 2
}
