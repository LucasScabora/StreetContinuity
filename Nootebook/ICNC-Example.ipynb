{
 "cells": [
  {
   "cell_type": "markdown",
   "metadata": {},
   "source": [
    "These are dependencies for Python 3.6 should be similar to Python 2.7."
   ]
  },
  {
   "cell_type": "code",
   "execution_count": 1,
   "metadata": {
    "ExecuteTime": {
     "end_time": "2019-01-21T22:08:41.511476Z",
     "start_time": "2019-01-21T22:08:40.232598Z"
    }
   },
   "outputs": [],
   "source": [
    "import math\n",
    "import warnings\n",
    "import itertools\n",
    "import osmnx as ox\n",
    "import numpy as np\n",
    "import networkx as nx"
   ]
  },
  {
   "cell_type": "markdown",
   "metadata": {},
   "source": [
    "Ignoring unwanted warnings."
   ]
  },
  {
   "cell_type": "code",
   "execution_count": 2,
   "metadata": {
    "ExecuteTime": {
     "end_time": "2019-01-21T22:08:41.516923Z",
     "start_time": "2019-01-21T22:08:41.514030Z"
    },
    "deletable": false,
    "editable": false
   },
   "outputs": [],
   "source": [
    "warnings.filterwarnings('ignore')"
   ]
  },
  {
   "cell_type": "markdown",
   "metadata": {},
   "source": [
    "I am using the city of Sao Carlos as an example, change as you please."
   ]
  },
  {
   "cell_type": "code",
   "execution_count": 3,
   "metadata": {
    "ExecuteTime": {
     "end_time": "2019-01-21T22:08:59.419430Z",
     "start_time": "2019-01-21T22:08:41.519661Z"
    }
   },
   "outputs": [],
   "source": [
    "oxg = ox.graph_from_place('São Carlos, Sao Paulo, Brazil')"
   ]
  },
  {
   "cell_type": "markdown",
   "metadata": {},
   "source": [
    "Number of Vertices and Edges in the MultiDiGraph."
   ]
  },
  {
   "cell_type": "code",
   "execution_count": 4,
   "metadata": {
    "ExecuteTime": {
     "end_time": "2019-01-21T22:08:59.456375Z",
     "start_time": "2019-01-21T22:08:59.421876Z"
    }
   },
   "outputs": [
    {
     "data": {
      "text/plain": [
       "(9880, 25428)"
      ]
     },
     "execution_count": 4,
     "metadata": {},
     "output_type": "execute_result"
    }
   ],
   "source": [
    "nx.number_of_nodes(oxg), nx.number_of_edges(oxg)"
   ]
  },
  {
   "cell_type": "markdown",
   "metadata": {},
   "source": [
    "Direction is not important in this case, so let's use a simple Graph."
   ]
  },
  {
   "cell_type": "code",
   "execution_count": 5,
   "metadata": {
    "ExecuteTime": {
     "end_time": "2019-01-21T22:08:59.625367Z",
     "start_time": "2019-01-21T22:08:59.457959Z"
    }
   },
   "outputs": [],
   "source": [
    "oxg = nx.Graph(oxg) # MultiDiGraph (input) ~> Graph (output)"
   ]
  },
  {
   "cell_type": "markdown",
   "metadata": {},
   "source": [
    "Removing self loops from the graph."
   ]
  },
  {
   "cell_type": "code",
   "execution_count": 6,
   "metadata": {
    "ExecuteTime": {
     "end_time": "2019-01-21T22:08:59.648648Z",
     "start_time": "2019-01-21T22:08:59.627287Z"
    }
   },
   "outputs": [],
   "source": [
    "oxg.remove_edges_from(oxg.selfloop_edges())"
   ]
  },
  {
   "cell_type": "markdown",
   "metadata": {},
   "source": [
    "Number of Vertices and Edges after converting MultiDiGraph to Digraph."
   ]
  },
  {
   "cell_type": "code",
   "execution_count": 7,
   "metadata": {
    "ExecuteTime": {
     "end_time": "2019-01-21T22:08:59.662695Z",
     "start_time": "2019-01-21T22:08:59.650319Z"
    }
   },
   "outputs": [
    {
     "data": {
      "text/plain": [
       "(9880, 14907)"
      ]
     },
     "execution_count": 7,
     "metadata": {},
     "output_type": "execute_result"
    }
   ],
   "source": [
    "nx.number_of_nodes(oxg), nx.number_of_edges(oxg)"
   ]
  },
  {
   "cell_type": "code",
   "execution_count": 8,
   "metadata": {
    "ExecuteTime": {
     "end_time": "2019-01-21T22:08:59.694594Z",
     "start_time": "2019-01-21T22:08:59.664102Z"
    },
    "scrolled": false
   },
   "outputs": [],
   "source": [
    "adjacency_list = nx.to_dict_of_lists(oxg)"
   ]
  },
  {
   "cell_type": "markdown",
   "metadata": {},
   "source": [
    "Calculating angles (in degrees) using the law of cosines."
   ]
  },
  {
   "cell_type": "code",
   "execution_count": 9,
   "metadata": {
    "ExecuteTime": {
     "end_time": "2019-01-21T22:09:01.487489Z",
     "start_time": "2019-01-21T22:08:59.696109Z"
    }
   },
   "outputs": [],
   "source": [
    "triplets = dict()\n",
    "angles_list = list()\n",
    "angles_dict = dict()\n",
    "\n",
    "for negotiator in adjacency_list.keys():\n",
    "    angles_dict[negotiator] = dict()\n",
    "    \n",
    "    for source, target in itertools.combinations(adjacency_list[negotiator], 2):\n",
    "        src_lat, src_lon = list(oxg.node[source].values())[0:2]\n",
    "        tgt_lat, tgt_lon = list(oxg.node[target].values())[0:2]\n",
    "        neg_lat, neg_lon = list(oxg.node[negotiator].values())[0:2]\n",
    "        \n",
    "        # a: from source to negotiator\n",
    "        d_sn = ox.utils.great_circle_vec(src_lat, src_lon, neg_lat, neg_lon)\n",
    "        # b: from negotiator to target\n",
    "        d_nt = ox.utils.great_circle_vec(neg_lat, neg_lon, tgt_lat, tgt_lon)\n",
    "        # c: from source to target\n",
    "        d_st = ox.utils.great_circle_vec(src_lat, src_lon, tgt_lat, tgt_lon)\n",
    "        \n",
    "        # cos(A) = (c² + b² - a²) / (2bc)\n",
    "        A = math.acos(((d_nt ** 2.0) + (d_st ** 2.0) - (d_sn ** 2.0)) / (2.0 * d_nt * d_st)) * (180/math.pi)\n",
    "        # cos(B) = (a² + c² - b²) / (2ac)\n",
    "        B = math.acos(((d_st ** 2.0) + (d_sn ** 2.0) - (d_nt ** 2.0)) / (2.0 * d_st * d_sn)) * (180/math.pi)\n",
    "        # cos(C) = (a² + b² - c²) / (2ab)\n",
    "        C = math.acos(((d_sn ** 2.0) + (d_nt ** 2.0) - (d_st ** 2.0)) / (2.0 * d_sn * d_nt)) * (180/math.pi)\n",
    "                        \n",
    "        angles_list.append(C)\n",
    "        triplets[(source, negotiator, target)] = C\n",
    "        angles_dict[negotiator][(source, target)] = C # no rounding here, otherwise angles might be zero"
   ]
  },
  {
   "cell_type": "markdown",
   "metadata": {},
   "source": [
    "Range of streets' convex angles."
   ]
  },
  {
   "cell_type": "code",
   "execution_count": 10,
   "metadata": {
    "ExecuteTime": {
     "end_time": "2019-01-21T22:09:01.494465Z",
     "start_time": "2019-01-21T22:09:01.489121Z"
    }
   },
   "outputs": [
    {
     "data": {
      "text/plain": [
       "(0.001087899271929076, 179.99999743867906)"
      ]
     },
     "execution_count": 10,
     "metadata": {},
     "output_type": "execute_result"
    }
   ],
   "source": [
    "min(triplets.values()), max(triplets.values())"
   ]
  },
  {
   "cell_type": "markdown",
   "metadata": {},
   "source": [
    "The number of continuities is the maximum number of pairs of streets connected to a node."
   ]
  },
  {
   "cell_type": "code",
   "execution_count": 11,
   "metadata": {
    "ExecuteTime": {
     "end_time": "2019-01-21T22:09:01.513989Z",
     "start_time": "2019-01-21T22:09:01.499011Z"
    }
   },
   "outputs": [],
   "source": [
    "continuity = max([len(list(itertools.combinations(adjacency_list[n], 2))) for n in adjacency_list.keys()])"
   ]
  },
  {
   "cell_type": "markdown",
   "metadata": {},
   "source": [
    "Defining the interval of each continuity."
   ]
  },
  {
   "cell_type": "code",
   "execution_count": 12,
   "metadata": {
    "ExecuteTime": {
     "end_time": "2019-01-21T22:09:01.522000Z",
     "start_time": "2019-01-21T22:09:01.518053Z"
    }
   },
   "outputs": [],
   "source": [
    "increment = max(triplets.values())/continuity"
   ]
  },
  {
   "cell_type": "markdown",
   "metadata": {},
   "source": [
    "Assigning continuity labels to each triplet of nodes (pairs of streets)."
   ]
  },
  {
   "cell_type": "code",
   "execution_count": 13,
   "metadata": {
    "ExecuteTime": {
     "end_time": "2019-01-21T22:09:01.782230Z",
     "start_time": "2019-01-21T22:09:01.523780Z"
    }
   },
   "outputs": [],
   "source": [
    "for key in triplets.keys():\n",
    "    triplet_degree = triplets[key]\n",
    "    for i in range(1, continuity + 1):\n",
    "        if (triplet_degree >= math.ceil((i - 1) * increment)) and (triplet_degree < math.ceil(i * increment)):\n",
    "            triplets[key] = i"
   ]
  }
 ],
 "metadata": {
  "kernelspec": {
   "display_name": "Python 3",
   "language": "python",
   "name": "python3"
  },
  "language_info": {
   "codemirror_mode": {
    "name": "ipython",
    "version": 3
   },
   "file_extension": ".py",
   "mimetype": "text/x-python",
   "name": "python",
   "nbconvert_exporter": "python",
   "pygments_lexer": "ipython3",
   "version": "3.6.6"
  },
  "toc": {
   "base_numbering": 1,
   "nav_menu": {},
   "number_sections": true,
   "sideBar": true,
   "skip_h1_title": false,
   "title_cell": "Table of Contents",
   "title_sidebar": "Contents",
   "toc_cell": false,
   "toc_position": {},
   "toc_section_display": true,
   "toc_window_display": false
  },
  "varInspector": {
   "cols": {
    "lenName": 16,
    "lenType": 16,
    "lenVar": 40
   },
   "kernels_config": {
    "python": {
     "delete_cmd_postfix": "",
     "delete_cmd_prefix": "del ",
     "library": "var_list.py",
     "varRefreshCmd": "print(var_dic_list())"
    },
    "r": {
     "delete_cmd_postfix": ") ",
     "delete_cmd_prefix": "rm(",
     "library": "var_list.r",
     "varRefreshCmd": "cat(var_dic_list()) "
    }
   },
   "types_to_exclude": [
    "module",
    "function",
    "builtin_function_or_method",
    "instance",
    "_Feature"
   ],
   "window_display": false
  }
 },
 "nbformat": 4,
 "nbformat_minor": 2
}
